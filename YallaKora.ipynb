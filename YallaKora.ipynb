{
 "cells": [
  {
   "cell_type": "code",
   "execution_count": 1,
   "id": "47647319-c25d-4b43-b14f-506f1c939517",
   "metadata": {
    "tags": []
   },
   "outputs": [],
   "source": [
    "import requests\n",
    "from bs4 import BeautifulSoup"
   ]
  },
  {
   "cell_type": "code",
   "execution_count": 7,
   "id": "426776dd-d423-4fbd-a1a4-024440efb3d4",
   "metadata": {
    "tags": []
   },
   "outputs": [],
   "source": [
    "url='https://www.yallakora.com/Match-Center/?date=18/21/2023'"
   ]
  },
  {
   "cell_type": "code",
   "execution_count": 23,
   "id": "51a0bc3a-6f2e-406d-8bd2-fd8021a13a6e",
   "metadata": {
    "tags": []
   },
   "outputs": [],
   "source": [
    "response=requests.get(url)\n",
    "html_content=response.content\n"
   ]
  },
  {
   "cell_type": "code",
   "execution_count": 24,
   "id": "39941ae1-5621-4e72-9a42-429b5d85f33e",
   "metadata": {
    "tags": []
   },
   "outputs": [],
   "source": [
    "soup= BeautifulSoup(html_content,'html.parser')\n"
   ]
  },
  {
   "cell_type": "code",
   "execution_count": 26,
   "id": "29e42b0b-b40c-4faf-a30a-5ce8a3e1fdd1",
   "metadata": {
    "tags": []
   },
   "outputs": [
    {
     "data": {
      "text/plain": [
       "15"
      ]
     },
     "execution_count": 26,
     "metadata": {},
     "output_type": "execute_result"
    }
   ],
   "source": [
    "championships = soup.find_all('div', class_='matchCard')\n",
    "len(championships)\n"
   ]
  },
  {
   "cell_type": "code",
   "execution_count": null,
   "id": "13590636-c60a-442b-b474-5932a31261d3",
   "metadata": {
    "tags": []
   },
   "outputs": [],
   "source": []
  },
  {
   "cell_type": "code",
   "execution_count": 35,
   "id": "70403363-8972-48e0-9ca6-555fce0b6239",
   "metadata": {
    "tags": []
   },
   "outputs": [
    {
     "data": {
      "text/plain": [
       "'كأس العالم لكرة السلة'"
      ]
     },
     "execution_count": 35,
     "metadata": {},
     "output_type": "execute_result"
    }
   ],
   "source": [
    "champion_title=championships[0].contents[1].find('h2').text.strip()\n",
    "champion_title"
   ]
  },
  {
   "cell_type": "code",
   "execution_count": 44,
   "id": "ffd59fa8-c851-43b2-95b1-95323258850c",
   "metadata": {
    "tags": []
   },
   "outputs": [
    {
     "name": "stdout",
     "output_type": "stream",
     "text": [
      "كأس العالم لكرة السلة\n",
      "الدوري الإنجليزي\n",
      "الدوري الإسباني\n",
      "البطولة العربية للأندية لكرة اليد\n",
      "الدوري الإيطالي\n",
      "الدوري الألماني\n",
      "الدوري الفرنسي\n",
      "دوري أبطال إفريقيا\n",
      "الكونفيدرالية الإفريقية\n",
      "الدوري التركي\n",
      "الدوري التونسي\n",
      "الدوري المغربي\n",
      "الدوري البرتغالي\n",
      "دوري نجوم قطر\n",
      "الدوري الإماراتي\n"
     ]
    }
   ],
   "source": [
    "for i in range(len(championships)):\n",
    "    print(championships[i].contents[1].find('h2').text.strip())"
   ]
  },
  {
   "cell_type": "code",
   "execution_count": 112,
   "id": "db19b133-1d74-4af5-8edf-e21002481a51",
   "metadata": {
    "tags": []
   },
   "outputs": [],
   "source": [
    "matches=championships[0].contents[3].find_all('li')\n"
   ]
  },
  {
   "cell_type": "code",
   "execution_count": 113,
   "id": "2a18589b-b17a-496f-a711-e4c22cb1ef24",
   "metadata": {
    "tags": []
   },
   "outputs": [
    {
     "data": {
      "text/plain": [
       "5"
      ]
     },
     "execution_count": 113,
     "metadata": {},
     "output_type": "execute_result"
    }
   ],
   "source": [
    "len(matches[0].contents)"
   ]
  },
  {
   "cell_type": "code",
   "execution_count": 69,
   "id": "fbbb6813-c02b-4fa3-8214-0c93e0abfb1d",
   "metadata": {
    "tags": []
   },
   "outputs": [
    {
     "name": "stdout",
     "output_type": "stream",
     "text": [
      "إيطاليا الدومينيكان 71 - 83 11:00\n",
      "أستراليا ألمانيا 66 - 62 11:30\n",
      "الجبل الاسود مصر 68 - 50 11:45\n",
      "لبنان كندا - - - 12:45\n",
      "الفلبين أنجولا - - - 15:00\n",
      "اليابان فنلندا - - - 15:10\n",
      "ليتوانيا المكسيك - - - 15:30\n",
      "فرنسا لاتفيا - - - 16:30\n"
     ]
    }
   ],
   "source": [
    "match_details=[]\n",
    "for i in range(len(matches)):\n",
    "    teamA=matches[i].contents[1].find('div',{'class':'teamA'}).text.strip()\n",
    "    teamB=matches[i].contents[1].find('div',{'class':'teamB'}).text.strip()\n",
    "    results=matches[i].contents[1].find('div',{'class':'MResult'}).find_all('span',{'class':'score'})\n",
    "    score= f'{results[0].text.strip()} - {results[1].text.strip()}'\n",
    "    time=matches[i].contents[1].find('div',{'class':'MResult'}).find('span',{'class':'time'}).text.strip()   \n",
    "    print(teamA, teamB, score, time)"
   ]
  },
  {
   "cell_type": "code",
   "execution_count": 73,
   "id": "3007c80e-9d99-4cb4-ba28-49fd82aeb9bb",
   "metadata": {
    "tags": []
   },
   "outputs": [
    {
     "name": "stdout",
     "output_type": "stream",
     "text": [
      "كأس العالم لكرة السلة\n",
      "إيطاليا الدومينيكان 71 - 83 11:00\n",
      "أستراليا ألمانيا 66 - 62 11:30\n",
      "الجبل الاسود مصر 68 - 50 11:45\n",
      "لبنان كندا - - - 12:45\n",
      "الفلبين أنجولا - - - 15:00\n",
      "اليابان فنلندا - - - 15:10\n",
      "ليتوانيا المكسيك - - - 15:30\n",
      "فرنسا لاتفيا - - - 16:30\n",
      "====================\n",
      "الدوري الإنجليزي\n",
      "بيرنلي استون فيلا - - - 16:00\n",
      "شيفيلد يونايتد مانشستر سيتي - - - 16:00\n",
      "نيوكاسل ليفربول - - - 18:30\n",
      "====================\n",
      "الدوري الإسباني\n",
      "فياريال برشلونة - - - 18:30\n",
      "فالنسيا أوساسونا - - - 20:30\n",
      "اتليتك بلباو ريال بيتيس - - - 22:30\n",
      "====================\n",
      "البطولة العربية للأندية لكرة اليد\n",
      "الهدى السعودي وفاق عين التوتة - - - 13:00\n",
      "الحشد الرياضي العراقي العربي الكويتي - - - 15:00\n",
      "مضر السعودي البنك الأهلي - - - 17:00\n",
      "الزمالك نادي الكويت - - - 19:30\n",
      "====================\n",
      "الدوري الإيطالي\n",
      "يوفنتوس بولونيا - - - 19:30\n",
      "فيورنتينا ليتشي - - - 19:30\n",
      "لاتسيو جنوى - - - 21:45\n",
      "نابولي ساسولو - - - 21:45\n",
      "====================\n",
      "الدوري الألماني\n",
      "ماينز آ. فرانكفورت - - - 16:30\n",
      "بايرن ميونيخ أوجسبورج - - - 18:30\n",
      "====================\n",
      "الدوري الفرنسي\n",
      "رين لوهافر - - - 14:00\n",
      "مونبيليه ريمس - - - 16:00\n",
      "ستراسبورج تولوز - - - 16:00\n",
      "كليرمونت ميتز - - - 16:00\n",
      "لوريان ليل - - - 18:05\n",
      "نيس ليون - - - 21:45\n",
      "====================\n",
      "دوري أبطال إفريقيا\n",
      "سان جورج كي إم كي إم - - - 16:00\n",
      "====================\n",
      "الكونفيدرالية الإفريقية\n",
      "جيه.كيه.يو سينجيدا بيج ستارز - - - 19:30\n",
      "====================\n",
      "الدوري التركي\n",
      "قيصري سبور سامسون سبور - - - 19:15\n",
      "فاتح كاراجومروك أنقرة جوتشو - - - 19:15\n",
      "ألانيا سبور هاتاي سبور - - - 21:45\n",
      "====================\n",
      "الدوري التونسي\n",
      "اتحاد تطاوين الترجى الرياضي - - - 18:30\n",
      "مستقبل المرسى الصفاقســــي - - - 18:30\n",
      "البنزرتي الإتحاد المنستيري - - - 18:30\n",
      "====================\n",
      "الدوري المغربي\n",
      "اتحاد طنجة الشباب الرياضي السالمي - - - 19:00\n",
      "يوسفية برشيد الرجاء البيضاوي - - - 21:15\n",
      "نهضة بركان مولودية وجدة - - - 23:30\n",
      "====================\n",
      "الدوري البرتغالي\n",
      "بوافيستا كازا بيا - - - 17:30\n",
      "فيتوريا جيماريش فيزيلا - - - 20:00\n",
      "سبورتينج لشبونة فاماليكاو - - - 22:30\n",
      "====================\n",
      "دوري نجوم قطر\n",
      "العربي ام صلال - - - 18:30\n",
      "الوكرة الشمال - - - 20:30\n",
      "====================\n",
      "الدوري الإماراتي\n",
      "شباب الأهلي خورفكان - - - 17:00\n",
      "الشــارقة الوصل - - - 19:30\n",
      "====================\n"
     ]
    }
   ],
   "source": [
    "for i in range(len(championships)):\n",
    "    print(championships[i].contents[1].find('h2').text.strip())\n",
    "    matches=championships[i].contents[3].find_all('li')\n",
    "    for i in range(len(matches)):\n",
    "        teamA=matches[i].contents[1].find('div',{'class':'teamA'}).text.strip()\n",
    "        teamB=matches[i].contents[1].find('div',{'class':'teamB'}).text.strip()\n",
    "        results=matches[i].contents[1].find('div',{'class':'MResult'}).find_all('span',{'class':'score'})\n",
    "        score= f'{results[0].text.strip()} - {results[1].text.strip()}'\n",
    "        time=matches[i].contents[1].find('div',{'class':'MResult'}).find('span',{'class':'time'}).text.strip()   \n",
    "        print(teamA, teamB, score, time)\n",
    "    print('='*20)\n",
    "    "
   ]
  },
  {
   "cell_type": "code",
   "execution_count": 74,
   "id": "05a23df9-244c-4002-b6f1-eaa987f169a2",
   "metadata": {
    "tags": []
   },
   "outputs": [
    {
     "data": {
      "text/plain": [
       "['\\n',\n",
       " <a href=\"/uael-league/2852/match/89751/%d8%b4%d8%a8%d8%a7%d8%a8-%d8%a7%d9%84%d8%a3%d9%87%d9%84%d9%8a-%d8%ae%d9%88%d8%b1%d9%81%d9%83%d8%a7%d9%86-%d8%a7%d9%84%d8%af%d9%88%d8%b1%d9%8a-%d8%a7%d9%84%d8%a5%d9%85%d8%a7%d8%b1%d8%a7%d8%aa%d9%8a#MC_MatcheDetails\" title=\"تفاصيل المباراة\">\n",
       " <div class=\"allData\">\n",
       " <!-- Match Top Data -->\n",
       " <!--Time & Status-->\n",
       " <div class=\"topData\">\n",
       " <div class=\"date\">الأسبوع الثاني\n",
       " </div>\n",
       " <div class=\"matchStatus\">\n",
       " <span>لم تبدأ</span>\n",
       " </div>\n",
       " </div>\n",
       " <!--Teams-->\n",
       " <div class=\"teamCntnr\">\n",
       " <div class=\"teamsData\">\n",
       " <!-- Team A -->\n",
       " <div class=\"teams teamA\">\n",
       " <img alt=\"شباب الأهلي\" onerror=\"this.onerror=null;this.src='https://media.gemini.media/img/yallakora/IOSTeams/YK-Generic-team-logo.png'\" src=\"https://media.gemini.media/img/yallakora/IOSTeams//120/\\2018\\7\\26\\ShababAlAhliDubai2018_7_26_11_51.jpg\"/>\n",
       " <p>شباب الأهلي</p>\n",
       " </div>\n",
       " <!-- Match Result -->\n",
       " <div class=\"MResult\">\n",
       " <span class=\"score\">-</span>\n",
       " <span>-</span>\n",
       " <span class=\"score\">-</span>\n",
       " <span class=\"time\">17:00</span>\n",
       " </div>\n",
       " <!-- Team B -->\n",
       " <div class=\"teams teamB\">\n",
       " <img alt=\"خورفكان\" onerror=\"this.onerror=null;this.src='https://media.gemini.media/img/yallakora/IOSTeams/YK-Generic-team-logo.png'\" src=\"https://media.gemini.media/img/yallakora/IOSTeams//120/\\2021\\9\\8\\Khorfakkan2021_9_8_10_22.jpg\"/>\n",
       " <p>خورفكان</p>\n",
       " </div>\n",
       " </div>\n",
       " </div>\n",
       " </div>\n",
       " </a>,\n",
       " '\\n',\n",
       " <div class=\"leftCol\">\n",
       " <a class=\"button details\" href=\"/uael-league/2852/match/89751/%d8%b4%d8%a8%d8%a7%d8%a8-%d8%a7%d9%84%d8%a3%d9%87%d9%84%d9%8a-%d8%ae%d9%88%d8%b1%d9%81%d9%83%d8%a7%d9%86-%d8%a7%d9%84%d8%af%d9%88%d8%b1%d9%8a-%d8%a7%d9%84%d8%a5%d9%85%d8%a7%d8%b1%d8%a7%d8%aa%d9%8a#MC_MatcheDetails\">التفاصيل</a>\n",
       " </div>,\n",
       " '\\n']"
      ]
     },
     "execution_count": 74,
     "metadata": {},
     "output_type": "execute_result"
    }
   ],
   "source": [
    "matches[0].contents"
   ]
  },
  {
   "cell_type": "code",
   "execution_count": 111,
   "id": "607fe22d-f1f8-41d5-827a-c7faed4b9e65",
   "metadata": {
    "tags": []
   },
   "outputs": [
    {
     "data": {
      "text/plain": [
       "8"
      ]
     },
     "execution_count": 111,
     "metadata": {},
     "output_type": "execute_result"
    }
   ],
   "source": [
    "len(matches)"
   ]
  },
  {
   "cell_type": "code",
   "execution_count": 110,
   "id": "5902be68-9b12-4152-ac0b-45d3d700a5fb",
   "metadata": {
    "tags": []
   },
   "outputs": [],
   "source": [
    "matches=championships[0].contents[3].find_all('li')\n"
   ]
  },
  {
   "cell_type": "code",
   "execution_count": null,
   "id": "0b062e4d-4a0c-4c2a-853e-eeedd67f322a",
   "metadata": {
    "tags": []
   },
   "outputs": [],
   "source": []
  },
  {
   "cell_type": "code",
   "execution_count": 85,
   "id": "33e23423-150b-4ad9-899c-a93772c0fca6",
   "metadata": {
    "tags": []
   },
   "outputs": [
    {
     "data": {
      "text/plain": [
       "'بى ان سبورت 4 HD'"
      ]
     },
     "execution_count": 85,
     "metadata": {},
     "output_type": "execute_result"
    }
   ],
   "source": [
    "channel=matches[0].contents[1].find('div',{'class':'channel icon-channel'}).text.strip()\n",
    "channel"
   ]
  },
  {
   "cell_type": "code",
   "execution_count": 115,
   "id": "8ab46f92-9a78-492d-95a3-4b23e7443212",
   "metadata": {
    "tags": []
   },
   "outputs": [
    {
     "name": "stdout",
     "output_type": "stream",
     "text": [
      "كأس العالم لكرة السلة\n",
      "إيطاليا الدومينيكان 71 - 83 11:00 بى ان سبورت 4 HD\n",
      "أستراليا ألمانيا 66 - 62 11:30 بى ان سبورت 3 HD\n",
      "الجبل الاسود مصر 68 - 50 11:45 بى ان سبورت 1HD\n",
      "لبنان كندا - - - 12:45 بى ان سبورت 6 HD\n",
      "الفلبين أنجولا - - - 15:00 بى ان سبورت 1HD\n",
      "اليابان فنلندا - - - 15:10 بى ان سبورت HD\n",
      "ليتوانيا المكسيك - - - 15:30 بى ان سبورت 7 HD\n",
      "فرنسا لاتفيا - - - 16:30 بى ان سبورت 5 HD\n",
      "====================\n",
      "الدوري الإنجليزي\n",
      "بيرنلي استون فيلا - - - 16:00 بى ان سبورت بريميوم 2\n",
      "شيفيلد يونايتد مانشستر سيتي - - - 16:00 بى ان سبورت بريميوم 1\n",
      "نيوكاسل ليفربول - - - 18:30 بى ان سبورت بريميوم 1\n",
      "====================\n",
      "الدوري الإسباني\n",
      "فياريال برشلونة - - - 18:30 بى ان سبورت 1HD\n",
      "فالنسيا أوساسونا - - - 20:30 بى ان سبورت 4 HD\n",
      "اتليتك بلباو ريال بيتيس - - - 22:30 بى ان سبورت 1HD\n",
      "====================\n",
      "البطولة العربية للأندية لكرة اليد\n",
      "الهدى السعودي وفاق عين التوتة - - - 13:00 لم تحدد بعد\n",
      "الحشد الرياضي العراقي العربي الكويتي - - - 15:00 لم تحدد بعد\n",
      "مضر السعودي البنك الأهلي - - - 17:00 لم تحدد بعد\n",
      "الزمالك نادي الكويت - - - 19:30 الاتحاد العربي لكرة اليد Youtube\n",
      "====================\n",
      "الدوري الإيطالي\n",
      "يوفنتوس بولونيا - - - 19:30 Starz Play App\n",
      "فيورنتينا ليتشي - - - 19:30 Starz Play App\n",
      "لاتسيو جنوى - - - 21:45 Starz Play App\n",
      "نابولي ساسولو - - - 21:45 Starz Play App\n",
      "====================\n",
      "الدوري الألماني\n",
      "ماينز آ. فرانكفورت - - - 16:30 بى ان سبورت اكسترا 1\n",
      "بايرن ميونيخ أوجسبورج - - - 18:30 بى ان سبورت 3 HD\n",
      "====================\n",
      "الدوري الفرنسي\n",
      "رين لوهافر - - - 14:00 بى ان سبورت 2 HD\n",
      "مونبيليه ريمس - - - 16:00 بى ان سبورت 4 HD\n",
      "ستراسبورج تولوز - - - 16:00 بى ان سبورت 6 HD\n",
      "كليرمونت ميتز - - - 16:00 بى ان سبورت 3 HD\n",
      "لوريان ليل - - - 18:05 بى ان سبورت 2 HD\n",
      "نيس ليون - - - 21:45 بى ان سبورت 3 HD\n",
      "====================\n",
      "دوري أبطال إفريقيا\n",
      "سان جورج كي إم كي إم - - - 16:00 لم تحدد بعد\n",
      "====================\n",
      "الكونفيدرالية الإفريقية\n",
      "جيه.كيه.يو سينجيدا بيج ستارز - - - 19:30 لم تحدد بعد\n",
      "====================\n",
      "الدوري التركي\n",
      "قيصري سبور سامسون سبور - - - 19:15 بى ان سبورت تركيا\n",
      "فاتح كاراجومروك أنقرة جوتشو - - - 19:15 بى ان سبورت تركيا\n",
      "ألانيا سبور هاتاي سبور - - - 21:45 بى ان سبورت تركيا\n",
      "====================\n",
      "الدوري التونسي\n",
      "اتحاد تطاوين الترجى الرياضي - - - 18:30 لم تحدد بعد\n",
      "مستقبل المرسى الصفاقســــي - - - 18:30 لم تحدد بعد\n",
      "البنزرتي الإتحاد المنستيري - - - 18:30 لم تحدد بعد\n",
      "====================\n",
      "الدوري المغربي\n",
      "اتحاد طنجة الشباب الرياضي السالمي - - - 19:00 لم تحدد بعد\n",
      "يوسفية برشيد الرجاء البيضاوي - - - 21:15 لم تحدد بعد\n",
      "نهضة بركان مولودية وجدة - - - 23:30 لم تحدد بعد\n",
      "====================\n",
      "الدوري البرتغالي\n",
      "بوافيستا كازا بيا - - - 17:30 لم تحدد بعد\n",
      "فيتوريا جيماريش فيزيلا - - - 20:00 لم تحدد بعد\n",
      "سبورتينج لشبونة فاماليكاو - - - 22:30 لم تحدد بعد\n",
      "====================\n",
      "دوري نجوم قطر\n",
      "العربي ام صلال - - - 18:30 لم تحدد بعد\n",
      "الوكرة الشمال - - - 20:30 لم تحدد بعد\n",
      "====================\n",
      "الدوري الإماراتي\n",
      "شباب الأهلي خورفكان - - - 17:00 لم تحدد بعد\n",
      "الشــارقة الوصل - - - 19:30 لم تحدد بعد\n",
      "====================\n"
     ]
    }
   ],
   "source": [
    "for i in range(len(championships)):\n",
    "    #matches_file = open(\"YallaKora.txt\",\"a\")\n",
    "    print(championships[i].contents[1].find('h2').text.strip())\n",
    "    matches=championships[i].contents[3].find_all('li')\n",
    "    for i in range(len(matches)):\n",
    "        teamA=matches[i].contents[1].find('div',{'class':'teamA'}).text.strip()\n",
    "        teamB=matches[i].contents[1].find('div',{'class':'teamB'}).text.strip()\n",
    "        results=matches[i].contents[1].find('div',{'class':'MResult'}).find_all('span',{'class':'score'})\n",
    "        score= f'{results[0].text.strip()} - {results[1].text.strip()}'\n",
    "        time=matches[i].contents[1].find('div',{'class':'MResult'}).find('span',{'class':'time'}).text.strip()\n",
    "        channel=matches[i].contents[1].find('div',{'class':'channel icon-channel'})\n",
    "        if channel==None:\n",
    "            channel=د\n",
    "        else:\n",
    "            channel=channel.text.strip()\n",
    "        print(teamA, teamB, score, time,channel)\n",
    "        #matches_file.write(f'{teamA} {teamB} {score} {time} {channel}\\n')\n",
    "        #matches_file.write('================================\\n')\n",
    "    print('='*20)"
   ]
  },
  {
   "cell_type": "code",
   "execution_count": null,
   "id": "20651065-b31a-4d2e-8fe1-7a3e32e7fa7e",
   "metadata": {
    "tags": []
   },
   "outputs": [],
   "source": []
  },
  {
   "cell_type": "code",
   "execution_count": null,
   "id": "e1d12e61-7157-4e80-b4dc-81e55265900a",
   "metadata": {},
   "outputs": [],
   "source": []
  }
 ],
 "metadata": {
  "kernelspec": {
   "display_name": "Python 3 (ipykernel)",
   "language": "python",
   "name": "python3"
  },
  "language_info": {
   "codemirror_mode": {
    "name": "ipython",
    "version": 3
   },
   "file_extension": ".py",
   "mimetype": "text/x-python",
   "name": "python",
   "nbconvert_exporter": "python",
   "pygments_lexer": "ipython3",
   "version": "3.11.3"
  }
 },
 "nbformat": 4,
 "nbformat_minor": 5
}
